{
  "nbformat": 4,
  "nbformat_minor": 0,
  "metadata": {
    "colab": {
      "provenance": [],
      "gpuType": "T4",
      "authorship_tag": "ABX9TyMzhM4gBvkjhljhCIX/qmvT",
      "include_colab_link": true
    },
    "kernelspec": {
      "name": "python3",
      "display_name": "Python 3"
    },
    "language_info": {
      "name": "python"
    },
    "accelerator": "GPU"
  },
  "cells": [
    {
      "cell_type": "markdown",
      "metadata": {
        "id": "view-in-github",
        "colab_type": "text"
      },
      "source": [
        "<a href=\"https://colab.research.google.com/github/Ryansyaaw/Machine-Learning_2023/blob/main/week%2011/week11.1.ipynb\" target=\"_parent\"><img src=\"https://colab.research.google.com/assets/colab-badge.svg\" alt=\"Open In Colab\"/></a>"
      ]
    },
    {
      "cell_type": "code",
      "execution_count": 2,
      "metadata": {
        "id": "Mzq8ElGmnqjQ",
        "outputId": "5d610fd3-7a16-4f92-c70d-857043ac9026",
        "colab": {
          "base_uri": "https://localhost:8080/"
        }
      },
      "outputs": [
        {
          "output_type": "stream",
          "name": "stdout",
          "text": [
            "Mounted at /content/drive\n"
          ]
        }
      ],
      "source": [
        "from google.colab import drive\n",
        "drive.mount('/content/drive')"
      ]
    },
    {
      "cell_type": "markdown",
      "source": [
        "Langkah 1 - Import Library"
      ],
      "metadata": {
        "id": "fAAfbsbR59ub"
      }
    },
    {
      "cell_type": "code",
      "source": [
        "import tensorflow as tf\n",
        "from keras.preprocessing.image import ImageDataGenerator"
      ],
      "metadata": {
        "id": "BGWuT58U5-LW"
      },
      "execution_count": 3,
      "outputs": []
    },
    {
      "cell_type": "markdown",
      "source": [
        "Langkah 2 - Pra Pengolahan Data"
      ],
      "metadata": {
        "id": "83VTtYqP6BQu"
      }
    },
    {
      "cell_type": "markdown",
      "source": [
        "Langkah 2.1. Pra Pengolahan Data Training"
      ],
      "metadata": {
        "id": "8izZlnFf6Dhf"
      }
    },
    {
      "cell_type": "code",
      "source": [
        "train_datagen = ImageDataGenerator(rescale = 1./255,\n",
        "                                   shear_range = 0.2,\n",
        "                                   zoom_range = 0.2,\n",
        "                                   horizontal_flip = True)\n",
        "training_set = train_datagen.flow_from_directory('/content/drive/MyDrive/machine learning/dataset/training_set',\n",
        "                                                 target_size = (64, 64),\n",
        "                                                 batch_size = 32,\n",
        "                                                 class_mode = 'binary')"
      ],
      "metadata": {
        "id": "Qd9rSKvU6Bpf",
        "outputId": "de5d272e-ae8b-4640-e929-3ceef8fd310f",
        "colab": {
          "base_uri": "https://localhost:8080/"
        }
      },
      "execution_count": 4,
      "outputs": [
        {
          "output_type": "stream",
          "name": "stdout",
          "text": [
            "Found 8000 images belonging to 2 classes.\n"
          ]
        }
      ]
    },
    {
      "cell_type": "markdown",
      "source": [
        "Langkah 2.2. Pra Pengolahan Data Testing"
      ],
      "metadata": {
        "id": "Psj1pKpD6R1e"
      }
    },
    {
      "cell_type": "code",
      "source": [
        "test_datagen = ImageDataGenerator(rescale = 1./255)\n",
        "test_set = test_datagen.flow_from_directory('/content/drive/MyDrive/machine learning/dataset/training_set',\n",
        "                                            target_size = (64, 64),\n",
        "                                            batch_size = 32,\n",
        "                                            class_mode = 'binary')"
      ],
      "metadata": {
        "id": "i5bEGJuR6SaM",
        "outputId": "5367f147-1930-4f9e-eb1c-5a500885681a",
        "colab": {
          "base_uri": "https://localhost:8080/"
        }
      },
      "execution_count": 5,
      "outputs": [
        {
          "output_type": "stream",
          "name": "stdout",
          "text": [
            "Found 8000 images belonging to 2 classes.\n"
          ]
        }
      ]
    },
    {
      "cell_type": "markdown",
      "source": [
        "Langkah 3 - Pembuatan Model CNN"
      ],
      "metadata": {
        "id": "9S0er0IG6duG"
      }
    },
    {
      "cell_type": "markdown",
      "source": [
        "Langkah 3.1.  - Inisiasi Model CNN"
      ],
      "metadata": {
        "id": "6yP_pyjG6eQu"
      }
    },
    {
      "cell_type": "code",
      "source": [
        "cnn = tf.keras.models.Sequential()"
      ],
      "metadata": {
        "id": "DOADORmf6flM"
      },
      "execution_count": 6,
      "outputs": []
    },
    {
      "cell_type": "markdown",
      "source": [
        "Langkah 3.2. - Pembuatan Layer Konvolusi 1"
      ],
      "metadata": {
        "id": "wirgrQ6S6jWw"
      }
    },
    {
      "cell_type": "code",
      "source": [
        "cnn.add(tf.keras.layers.Conv2D(filters=32, kernel_size=3, activation='relu', input_shape=[64, 64, 3]))"
      ],
      "metadata": {
        "id": "8hZgYkFG6kTe"
      },
      "execution_count": 7,
      "outputs": []
    },
    {
      "cell_type": "markdown",
      "source": [
        "Langkah 3.3 - Pembuatan Layer Pooling 1"
      ],
      "metadata": {
        "id": "gPgGARxH6n-4"
      }
    },
    {
      "cell_type": "code",
      "source": [
        "cnn.add(tf.keras.layers.MaxPool2D(pool_size=2, strides=2))"
      ],
      "metadata": {
        "id": "eH6V5gUm6oYa"
      },
      "execution_count": 8,
      "outputs": []
    },
    {
      "cell_type": "markdown",
      "source": [
        "Langkah 3.4 - Pembuatan Layer Konvolusi 2 dan Pooling 2"
      ],
      "metadata": {
        "id": "7puZuLtF6sn1"
      }
    },
    {
      "cell_type": "code",
      "source": [
        "cnn.add(tf.keras.layers.Conv2D(filters=32, kernel_size=3, activation='relu'))\n",
        "cnn.add(tf.keras.layers.MaxPool2D(pool_size=2, strides=2))"
      ],
      "metadata": {
        "id": "odC2vuFG6tYN"
      },
      "execution_count": 9,
      "outputs": []
    },
    {
      "cell_type": "markdown",
      "source": [
        "Langkah 3.5 - Flattening"
      ],
      "metadata": {
        "id": "KTTZc8iI6vAN"
      }
    },
    {
      "cell_type": "code",
      "source": [
        "cnn.add(tf.keras.layers.Flatten())"
      ],
      "metadata": {
        "id": "3qGbgk3M60pD"
      },
      "execution_count": 10,
      "outputs": []
    },
    {
      "cell_type": "markdown",
      "source": [
        "Langkah 3.6 - Fully Connected Layer 1 (Input)"
      ],
      "metadata": {
        "id": "bDxWCARH62zF"
      }
    },
    {
      "cell_type": "code",
      "source": [
        "cnn.add(tf.keras.layers.Dense(units=128, activation='relu'))"
      ],
      "metadata": {
        "id": "KkDnsULO64r7"
      },
      "execution_count": 11,
      "outputs": []
    },
    {
      "cell_type": "markdown",
      "source": [
        "Langkah 3.7 - Fully Connected Layer 2 (Output)"
      ],
      "metadata": {
        "id": "vE8RVrO7685I"
      }
    },
    {
      "cell_type": "code",
      "source": [
        "cnn.add(tf.keras.layers.Dense(units=1, activation='sigmoid'))"
      ],
      "metadata": {
        "id": "jwOXUrwx69WF"
      },
      "execution_count": 12,
      "outputs": []
    },
    {
      "cell_type": "markdown",
      "source": [
        "Langkah 3.8 - Compile Model CNN"
      ],
      "metadata": {
        "id": "aBloJrbV7BbF"
      }
    },
    {
      "cell_type": "code",
      "source": [
        "cnn.compile(optimizer = 'adam', loss = 'binary_crossentropy', metrics = ['accuracy'])"
      ],
      "metadata": {
        "id": "4BtTQtEP7B1P"
      },
      "execution_count": 13,
      "outputs": []
    },
    {
      "cell_type": "markdown",
      "source": [
        "Langkah 4 - Fit CNN"
      ],
      "metadata": {
        "id": "dbtOhpv67JWg"
      }
    },
    {
      "cell_type": "code",
      "source": [
        "cnn.fit(x = training_set, validation_data = test_set, epochs = 20)"
      ],
      "metadata": {
        "id": "SNGZKnbJ7Lhu",
        "outputId": "70796c5b-ae58-4c6c-ed69-2ff4fe7326a6",
        "colab": {
          "base_uri": "https://localhost:8080/"
        }
      },
      "execution_count": null,
      "outputs": [
        {
          "output_type": "stream",
          "name": "stdout",
          "text": [
            "Epoch 1/20\n",
            "250/250 [==============================] - 1213s 5s/step - loss: 0.6797 - accuracy: 0.5773 - val_loss: 0.6443 - val_accuracy: 0.6227\n",
            "Epoch 2/20\n",
            "250/250 [==============================] - 56s 225ms/step - loss: 0.6248 - accuracy: 0.6529 - val_loss: 0.5899 - val_accuracy: 0.6891\n",
            "Epoch 3/20\n",
            "250/250 [==============================] - 58s 231ms/step - loss: 0.5807 - accuracy: 0.7021 - val_loss: 0.5567 - val_accuracy: 0.7166\n",
            "Epoch 4/20\n",
            "250/250 [==============================] - 58s 231ms/step - loss: 0.5475 - accuracy: 0.7278 - val_loss: 0.4979 - val_accuracy: 0.7510\n",
            "Epoch 5/20\n",
            "250/250 [==============================] - 56s 226ms/step - loss: 0.5132 - accuracy: 0.7369 - val_loss: 0.5015 - val_accuracy: 0.7455\n",
            "Epoch 6/20\n",
            "250/250 [==============================] - 57s 227ms/step - loss: 0.4922 - accuracy: 0.7576 - val_loss: 0.4474 - val_accuracy: 0.7870\n",
            "Epoch 7/20\n",
            "250/250 [==============================] - 57s 229ms/step - loss: 0.4815 - accuracy: 0.7638 - val_loss: 0.4507 - val_accuracy: 0.7910\n",
            "Epoch 8/20\n",
            "250/250 [==============================] - 56s 225ms/step - loss: 0.4637 - accuracy: 0.7790 - val_loss: 0.4944 - val_accuracy: 0.7634\n",
            "Epoch 9/20\n",
            "250/250 [==============================] - 76s 306ms/step - loss: 0.4444 - accuracy: 0.7865 - val_loss: 0.3943 - val_accuracy: 0.8189\n",
            "Epoch 10/20\n",
            "250/250 [==============================] - 56s 226ms/step - loss: 0.4366 - accuracy: 0.7949 - val_loss: 0.3964 - val_accuracy: 0.8177\n",
            "Epoch 11/20\n",
            "250/250 [==============================] - 57s 229ms/step - loss: 0.4176 - accuracy: 0.8059 - val_loss: 0.3902 - val_accuracy: 0.8234\n",
            "Epoch 12/20\n",
            "250/250 [==============================] - 57s 229ms/step - loss: 0.4133 - accuracy: 0.8076 - val_loss: 0.3614 - val_accuracy: 0.8482\n",
            "Epoch 13/20\n",
            "250/250 [==============================] - 56s 225ms/step - loss: 0.3940 - accuracy: 0.8217 - val_loss: 0.3350 - val_accuracy: 0.8529\n",
            "Epoch 14/20\n",
            "250/250 [==============================] - 76s 304ms/step - loss: 0.3870 - accuracy: 0.8259 - val_loss: 0.3328 - val_accuracy: 0.8514\n",
            "Epoch 15/20\n",
            "250/250 [==============================] - 56s 224ms/step - loss: 0.3739 - accuracy: 0.8316 - val_loss: 0.3400 - val_accuracy: 0.8468\n",
            "Epoch 16/20\n",
            "250/250 [==============================] - 76s 304ms/step - loss: 0.3481 - accuracy: 0.8470 - val_loss: 0.3356 - val_accuracy: 0.8504\n",
            "Epoch 17/20\n",
            "250/250 [==============================] - 57s 227ms/step - loss: 0.3466 - accuracy: 0.8462 - val_loss: 0.2854 - val_accuracy: 0.8798\n",
            "Epoch 18/20\n",
            "250/250 [==============================] - ETA: 0s - loss: 0.3322 - accuracy: 0.8506"
          ]
        }
      ]
    },
    {
      "cell_type": "markdown",
      "source": [
        "Langkah 5 - Prediksi dengan 1 Citra"
      ],
      "metadata": {
        "id": "rxbMiADR7Ohw"
      }
    },
    {
      "cell_type": "code",
      "source": [
        "import numpy as np\n",
        "from keras.preprocessing import image\n",
        "test_image = image.load_img('dataset/single_prediction/cat_or_dog_1.jpg', target_size = (64, 64))\n",
        "test_image = image.img_to_array(test_image)\n",
        "test_image = np.expand_dims(test_image, axis = 0)\n",
        "result = cnn.predict(test_image)\n",
        "training_set.class_indices\n",
        "if result[0][0] == 1:\n",
        "  prediction = 'dog'\n",
        "else:\n",
        "  prediction = 'cat'"
      ],
      "metadata": {
        "id": "iHymu52mRCKB"
      },
      "execution_count": null,
      "outputs": []
    }
  ]
}