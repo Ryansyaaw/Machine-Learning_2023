{
  "nbformat": 4,
  "nbformat_minor": 0,
  "metadata": {
    "colab": {
      "provenance": [],
      "gpuType": "T4",
      "authorship_tag": "ABX9TyNlYV22QsBVvlyBYM2Rburu",
      "include_colab_link": true
    },
    "kernelspec": {
      "name": "python3",
      "display_name": "Python 3"
    },
    "language_info": {
      "name": "python"
    },
    "accelerator": "GPU"
  },
  "cells": [
    {
      "cell_type": "markdown",
      "metadata": {
        "id": "view-in-github",
        "colab_type": "text"
      },
      "source": [
        "<a href=\"https://colab.research.google.com/github/Ryansyaaw/Machine-Learning_2023/blob/main/week%2011/week11.1.ipynb\" target=\"_parent\"><img src=\"https://colab.research.google.com/assets/colab-badge.svg\" alt=\"Open In Colab\"/></a>"
      ]
    },
    {
      "cell_type": "code",
      "execution_count": 2,
      "metadata": {
        "id": "Mzq8ElGmnqjQ",
        "outputId": "a00ef878-1c37-4646-f18a-14ddd902f0e5",
        "colab": {
          "base_uri": "https://localhost:8080/"
        }
      },
      "outputs": [
        {
          "output_type": "stream",
          "name": "stdout",
          "text": [
            "Mounted at /content/drive\n"
          ]
        }
      ],
      "source": [
        "from google.colab import drive\n",
        "drive.mount('/content/drive')"
      ]
    },
    {
      "cell_type": "markdown",
      "source": [
        "Langkah 1 - Import Library"
      ],
      "metadata": {
        "id": "fAAfbsbR59ub"
      }
    },
    {
      "cell_type": "code",
      "source": [
        "import tensorflow as tf\n",
        "from keras.preprocessing.image import ImageDataGenerator"
      ],
      "metadata": {
        "id": "BGWuT58U5-LW"
      },
      "execution_count": 3,
      "outputs": []
    },
    {
      "cell_type": "markdown",
      "source": [
        "Langkah 2 - Pra Pengolahan Data"
      ],
      "metadata": {
        "id": "83VTtYqP6BQu"
      }
    },
    {
      "cell_type": "markdown",
      "source": [
        "Langkah 2.1. Pra Pengolahan Data Training"
      ],
      "metadata": {
        "id": "8izZlnFf6Dhf"
      }
    },
    {
      "cell_type": "code",
      "source": [
        "train_datagen = ImageDataGenerator(rescale = 1./255,\n",
        "                                   shear_range = 0.2,\n",
        "                                   zoom_range = 0.2,\n",
        "                                   horizontal_flip = True)\n",
        "training_set = train_datagen.flow_from_directory('/content/drive/MyDrive/machine learning/dataset/training_set',\n",
        "                                                 target_size = (64, 64),\n",
        "                                                 batch_size = 32,\n",
        "                                                 class_mode = 'binary')"
      ],
      "metadata": {
        "id": "Qd9rSKvU6Bpf",
        "outputId": "6e3e2fe5-e157-45b9-8094-a9182a83a29b",
        "colab": {
          "base_uri": "https://localhost:8080/"
        }
      },
      "execution_count": 4,
      "outputs": [
        {
          "output_type": "stream",
          "name": "stdout",
          "text": [
            "Found 8000 images belonging to 2 classes.\n"
          ]
        }
      ]
    },
    {
      "cell_type": "markdown",
      "source": [
        "Langkah 2.2. Pra Pengolahan Data Testing"
      ],
      "metadata": {
        "id": "Psj1pKpD6R1e"
      }
    },
    {
      "cell_type": "code",
      "source": [
        "test_datagen = ImageDataGenerator(rescale = 1./255)\n",
        "test_set = test_datagen.flow_from_directory('/content/drive/MyDrive/machine learning/dataset/training_set',\n",
        "                                            target_size = (64, 64),\n",
        "                                            batch_size = 32,\n",
        "                                            class_mode = 'binary')"
      ],
      "metadata": {
        "id": "i5bEGJuR6SaM",
        "outputId": "05adf17f-5c48-492d-fa39-447b1aa8f478",
        "colab": {
          "base_uri": "https://localhost:8080/"
        }
      },
      "execution_count": 5,
      "outputs": [
        {
          "output_type": "stream",
          "name": "stdout",
          "text": [
            "Found 8000 images belonging to 2 classes.\n"
          ]
        }
      ]
    },
    {
      "cell_type": "markdown",
      "source": [
        "Langkah 3 - Pembuatan Model CNN"
      ],
      "metadata": {
        "id": "9S0er0IG6duG"
      }
    },
    {
      "cell_type": "markdown",
      "source": [
        "Langkah 3.1.  - Inisiasi Model CNN"
      ],
      "metadata": {
        "id": "6yP_pyjG6eQu"
      }
    },
    {
      "cell_type": "code",
      "source": [
        "cnn = tf.keras.models.Sequential()"
      ],
      "metadata": {
        "id": "DOADORmf6flM"
      },
      "execution_count": 6,
      "outputs": []
    },
    {
      "cell_type": "markdown",
      "source": [
        "Langkah 3.2. - Pembuatan Layer Konvolusi 1"
      ],
      "metadata": {
        "id": "wirgrQ6S6jWw"
      }
    },
    {
      "cell_type": "code",
      "source": [
        "cnn.add(tf.keras.layers.Conv2D(filters=32, kernel_size=3, activation='relu', input_shape=[64, 64, 3]))"
      ],
      "metadata": {
        "id": "8hZgYkFG6kTe"
      },
      "execution_count": 7,
      "outputs": []
    },
    {
      "cell_type": "markdown",
      "source": [
        "Langkah 3.3 - Pembuatan Layer Pooling 1"
      ],
      "metadata": {
        "id": "gPgGARxH6n-4"
      }
    },
    {
      "cell_type": "code",
      "source": [
        "cnn.add(tf.keras.layers.MaxPool2D(pool_size=2, strides=2))"
      ],
      "metadata": {
        "id": "eH6V5gUm6oYa"
      },
      "execution_count": 8,
      "outputs": []
    },
    {
      "cell_type": "markdown",
      "source": [
        "Langkah 3.4 - Pembuatan Layer Konvolusi 2 dan Pooling 2"
      ],
      "metadata": {
        "id": "7puZuLtF6sn1"
      }
    },
    {
      "cell_type": "code",
      "source": [
        "cnn.add(tf.keras.layers.Conv2D(filters=32, kernel_size=3, activation='relu'))\n",
        "cnn.add(tf.keras.layers.MaxPool2D(pool_size=2, strides=2))"
      ],
      "metadata": {
        "id": "odC2vuFG6tYN"
      },
      "execution_count": 9,
      "outputs": []
    },
    {
      "cell_type": "markdown",
      "source": [
        "Langkah 3.5 - Flattening"
      ],
      "metadata": {
        "id": "KTTZc8iI6vAN"
      }
    },
    {
      "cell_type": "code",
      "source": [
        "cnn.add(tf.keras.layers.Flatten())"
      ],
      "metadata": {
        "id": "3qGbgk3M60pD"
      },
      "execution_count": 10,
      "outputs": []
    },
    {
      "cell_type": "markdown",
      "source": [
        "Langkah 3.6 - Fully Connected Layer 1 (Input)"
      ],
      "metadata": {
        "id": "bDxWCARH62zF"
      }
    },
    {
      "cell_type": "code",
      "source": [
        "cnn.add(tf.keras.layers.Dense(units=128, activation='relu'))"
      ],
      "metadata": {
        "id": "KkDnsULO64r7"
      },
      "execution_count": 11,
      "outputs": []
    },
    {
      "cell_type": "markdown",
      "source": [
        "Langkah 3.7 - Fully Connected Layer 2 (Output)"
      ],
      "metadata": {
        "id": "vE8RVrO7685I"
      }
    },
    {
      "cell_type": "code",
      "source": [
        "cnn.add(tf.keras.layers.Dense(units=1, activation='sigmoid'))"
      ],
      "metadata": {
        "id": "jwOXUrwx69WF"
      },
      "execution_count": 12,
      "outputs": []
    },
    {
      "cell_type": "markdown",
      "source": [
        "Langkah 3.8 - Compile Model CNN"
      ],
      "metadata": {
        "id": "aBloJrbV7BbF"
      }
    },
    {
      "cell_type": "code",
      "source": [
        "cnn.compile(optimizer = 'adam', loss = 'binary_crossentropy', metrics = ['accuracy'])"
      ],
      "metadata": {
        "id": "4BtTQtEP7B1P"
      },
      "execution_count": 13,
      "outputs": []
    },
    {
      "cell_type": "markdown",
      "source": [
        "Langkah 4 - Fit CNN"
      ],
      "metadata": {
        "id": "dbtOhpv67JWg"
      }
    },
    {
      "cell_type": "markdown",
      "source": [
        "pada langkah ini saya hanya menggunakan epochs 15 dikarenakan selalu error disaat saya menjalankan epochs 25"
      ],
      "metadata": {
        "id": "oWOgGy9MjyZP"
      }
    },
    {
      "cell_type": "code",
      "source": [
        "cnn.fit(x = training_set, validation_data = test_set, epochs = 15)"
      ],
      "metadata": {
        "id": "SNGZKnbJ7Lhu",
        "outputId": "eb7e2bf0-b8d0-4596-a11f-1615b5e0cfe1",
        "colab": {
          "base_uri": "https://localhost:8080/"
        }
      },
      "execution_count": 14,
      "outputs": [
        {
          "output_type": "stream",
          "name": "stdout",
          "text": [
            "Epoch 1/15\n",
            "250/250 [==============================] - 1074s 4s/step - loss: 0.6742 - accuracy: 0.5729 - val_loss: 0.6018 - val_accuracy: 0.6862\n",
            "Epoch 2/15\n",
            "250/250 [==============================] - 52s 207ms/step - loss: 0.5949 - accuracy: 0.6840 - val_loss: 0.5369 - val_accuracy: 0.7352\n",
            "Epoch 3/15\n",
            "250/250 [==============================] - 52s 209ms/step - loss: 0.5522 - accuracy: 0.7196 - val_loss: 0.4948 - val_accuracy: 0.7682\n",
            "Epoch 4/15\n",
            "250/250 [==============================] - 51s 205ms/step - loss: 0.5233 - accuracy: 0.7455 - val_loss: 0.6113 - val_accuracy: 0.6925\n",
            "Epoch 5/15\n",
            "250/250 [==============================] - 51s 205ms/step - loss: 0.5049 - accuracy: 0.7538 - val_loss: 0.4438 - val_accuracy: 0.7884\n",
            "Epoch 6/15\n",
            "250/250 [==============================] - 51s 206ms/step - loss: 0.4809 - accuracy: 0.7645 - val_loss: 0.4271 - val_accuracy: 0.8065\n",
            "Epoch 7/15\n",
            "250/250 [==============================] - 52s 209ms/step - loss: 0.4652 - accuracy: 0.7804 - val_loss: 0.4461 - val_accuracy: 0.7925\n",
            "Epoch 8/15\n",
            "250/250 [==============================] - 53s 211ms/step - loss: 0.4539 - accuracy: 0.7821 - val_loss: 0.4079 - val_accuracy: 0.8136\n",
            "Epoch 9/15\n",
            "250/250 [==============================] - 52s 210ms/step - loss: 0.4350 - accuracy: 0.7980 - val_loss: 0.4132 - val_accuracy: 0.8124\n",
            "Epoch 10/15\n",
            "250/250 [==============================] - 52s 209ms/step - loss: 0.4199 - accuracy: 0.8055 - val_loss: 0.3876 - val_accuracy: 0.8226\n",
            "Epoch 11/15\n",
            "250/250 [==============================] - 53s 212ms/step - loss: 0.4121 - accuracy: 0.8087 - val_loss: 0.3730 - val_accuracy: 0.8306\n",
            "Epoch 12/15\n",
            "250/250 [==============================] - 73s 291ms/step - loss: 0.4028 - accuracy: 0.8135 - val_loss: 0.3675 - val_accuracy: 0.8332\n",
            "Epoch 13/15\n",
            "250/250 [==============================] - 52s 208ms/step - loss: 0.3904 - accuracy: 0.8199 - val_loss: 0.3455 - val_accuracy: 0.8481\n",
            "Epoch 14/15\n",
            "250/250 [==============================] - 52s 208ms/step - loss: 0.3824 - accuracy: 0.8248 - val_loss: 0.4297 - val_accuracy: 0.7985\n",
            "Epoch 15/15\n",
            "250/250 [==============================] - 52s 207ms/step - loss: 0.3673 - accuracy: 0.8354 - val_loss: 0.3218 - val_accuracy: 0.8589\n"
          ]
        },
        {
          "output_type": "execute_result",
          "data": {
            "text/plain": [
              "<keras.src.callbacks.History at 0x7a6092d10550>"
            ]
          },
          "metadata": {},
          "execution_count": 14
        }
      ]
    },
    {
      "cell_type": "markdown",
      "source": [
        "Langkah 5 - Prediksi dengan 1 Citra"
      ],
      "metadata": {
        "id": "rxbMiADR7Ohw"
      }
    },
    {
      "cell_type": "code",
      "source": [
        "import numpy as np\n",
        "from keras.preprocessing import image\n",
        "test_image = image.load_img('/content/drive/MyDrive/machine learning/dataset/single_prediction/cat_or_dog_1.jpg', target_size = (64, 64))\n",
        "test_image = image.img_to_array(test_image)\n",
        "test_image = np.expand_dims(test_image, axis = 0)\n",
        "result = cnn.predict(test_image)\n",
        "training_set.class_indices\n",
        "if result[0][0] == 1:\n",
        "  prediction = 'dog'\n",
        "else:\n",
        "  prediction = 'cat'"
      ],
      "metadata": {
        "id": "iHymu52mRCKB",
        "outputId": "d77cf9e5-b3d0-4839-f787-7afb0a5929b0",
        "colab": {
          "base_uri": "https://localhost:8080/"
        }
      },
      "execution_count": 16,
      "outputs": [
        {
          "output_type": "stream",
          "name": "stdout",
          "text": [
            "1/1 [==============================] - 0s 189ms/step\n"
          ]
        }
      ]
    }
  ]
}